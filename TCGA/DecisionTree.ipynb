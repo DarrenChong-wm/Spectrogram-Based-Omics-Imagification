{
 "cells": [
  {
   "cell_type": "code",
   "execution_count": null,
   "metadata": {},
   "outputs": [],
   "source": [
    "import os\n",
    "#os.chdir('../')\n",
    "current_directory = os.getcwd()\n",
    "print(\"Current Directory:\", current_directory)\n",
    "from sklearn.model_selection import train_test_split\n",
    "from sklearn.preprocessing import LabelEncoder\n",
    "import pandas as pd\n",
    "import numpy as np\n",
    "\n",
    "import warnings; \n",
    "warnings.simplefilter('ignore')"
   ]
  },
  {
   "cell_type": "code",
   "execution_count": null,
   "metadata": {},
   "outputs": [],
   "source": [
    "expr_file = r\"./data/TCGA/curatedTCGAData_RNASeq2GeneNorm.txt\"\n",
    "expr = pd.read_csv(expr_file, sep=\"\\t\")\n",
    "y = expr['cancer'].values\n",
    "X = expr.iloc[:, 2:].values\n",
    "X_train, X_test, y_train, y_test = train_test_split(\n",
    "    X, y, test_size=0.2, stratify=y)\n",
    "np.unique(y, return_counts=True)"
   ]
  },
  {
   "cell_type": "code",
   "execution_count": null,
   "metadata": {},
   "outputs": [],
   "source": [
    "def scaler_fit(X: np.ndarray) -> tuple:\n",
    "    \"\"\"Compute parameters needed for log normalization and scaling.\"\"\"\n",
    "    min0 = X.min(axis=0)\n",
    "    max_val = np.log(X + np.abs(min0) + 1).max()\n",
    "    return min0, max_val\n",
    "\n",
    "def scaler_transform(X: np.ndarray, min0: np.ndarray, max_val: float) -> np.ndarray:\n",
    "    \"\"\"Apply log normalization and scaling to the input data.\"\"\"\n",
    "    X_norm = np.log(X + np.abs(min0) + 1).clip(0, None)\n",
    "    return (X_norm / max_val).clip(0, 1)\n",
    "\n",
    "def scaler_fit_transform(X: np.ndarray) -> np.ndarray:\n",
    "    \"\"\"Combine fitting and transforming steps.\"\"\"\n",
    "    min0, max_val = scaler_fit(X)\n",
    "    return (scaler_transform(X, min0, max_val), min0, max_val)\n",
    "\n",
    "(X_train_norm, min0, max_val) = scaler_fit_transform(X_train)\n",
    "X_test_norm = scaler_transform(X_test, min0, max_val)\n",
    "le = LabelEncoder()\n",
    "y_train_enc = le.fit_transform(y_train)\n",
    "y_test_enc = le.transform(y_test)\n",
    "num_classes = np.unique(y_train_enc).size"
   ]
  },
  {
   "cell_type": "code",
   "execution_count": null,
   "metadata": {},
   "outputs": [],
   "source": [
    "from sklearn.tree import DecisionTreeClassifier\n",
    "from sklearn.metrics import accuracy_score, precision_score, recall_score, f1_score, roc_auc_score, classification_report, confusion_matrix, ConfusionMatrixDisplay\n",
    "\n",
    "clf = DecisionTreeClassifier(criterion='gini', random_state=42)\n",
    "clf.fit(X_train_norm, y_train_enc)\n",
    "y_pred = clf.predict(X_test_norm)\n",
    "# Calculate evaluation metrics\n",
    "precision_macro = precision_score(y_test_enc, y_pred, average='macro')\n",
    "precision_micro = precision_score(y_test_enc, y_pred, average='micro')\n",
    "precision_weighted = precision_score(y_test_enc, y_pred, average='weighted')\n",
    "recall_macro = recall_score(y_test_enc, y_pred, average='macro')\n",
    "recall_micro = recall_score(y_test_enc, y_pred, average='micro')\n",
    "recall_weighted = recall_score(y_test_enc, y_pred, average='weighted')\n",
    "f1_macro = f1_score(y_test_enc, y_pred, average='macro')\n",
    "f1_micro = f1_score(y_test_enc, y_pred, average='micro')\n",
    "f1_weighted = f1_score(y_test_enc, y_pred, average='weighted')\n",
    "roc_auc_macro = roc_auc_score(y_test_enc, clf.predict_proba(X_test), average='macro', multi_class='ovo')\n",
    "roc_auc_weighted = roc_auc_score(y_test_enc, clf.predict_proba(X_test), average='weighted', multi_class='ovo')\n",
    "# Classification report (includes precision, recall, F1-score, support)\n",
    "report = classification_report(y_test_enc, y_pred)\n",
    "\n",
    "train_accuracy = accuracy_score(y_train_enc, clf.predict(X_train_norm))\n",
    "\n",
    "# Calculate test accuracy\n",
    "test_accuracy = accuracy_score(y_test_enc, y_pred)\n",
    "\n",
    "\n",
    "print(\"Training Accuracy:\", train_accuracy)\n",
    "print(\"Test Accuracy:\", test_accuracy)\n",
    "print(\"Precision (Macro):\", precision_macro)\n",
    "print(\"Precision (Micro):\", precision_micro)\n",
    "print(\"Precision (Weighted):\", precision_weighted)\n",
    "print(\"Recall (Macro):\", recall_macro)\n",
    "print(\"Recall (Micro):\", recall_micro)\n",
    "print(\"Recall (Weighted):\", recall_weighted)\n",
    "print(\"F1-score (Macro):\", f1_macro)\n",
    "print(\"F1-score (Micro):\", f1_micro)\n",
    "print(\"F1-score (Weighted):\", f1_weighted)\n",
    "print(\"ROC-AUC (OvO, Macro):\", roc_auc_macro)\n",
    "print(\"ROC-AUC (OvO, Weighted):\", roc_auc_weighted)\n",
    "print(\"\\n\")\n",
    "print(report)\n",
    "disp = ConfusionMatrixDisplay.from_predictions(y_pred, y_test_enc, display_labels=le.classes_)\n",
    "disp.plot()"
   ]
  }
 ],
 "metadata": {
  "language_info": {
   "name": "python"
  }
 },
 "nbformat": 4,
 "nbformat_minor": 2
}
