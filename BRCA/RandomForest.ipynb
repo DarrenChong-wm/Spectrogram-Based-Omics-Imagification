{
 "cells": [
  {
   "cell_type": "code",
   "execution_count": 1,
   "metadata": {},
   "outputs": [
    {
     "name": "stdout",
     "output_type": "stream",
     "text": [
      "Current Directory: c:\\Users\\Darren Chong\\Documents\\School\\Thesis B\\Spectrogram-Based-Omics-Imagification\n"
     ]
    }
   ],
   "source": [
    "import os\n",
    "os.chdir('../')\n",
    "current_directory = os.getcwd()\n",
    "print(\"Current Directory:\", current_directory)\n",
    "from sklearn.model_selection import train_test_split\n",
    "from sklearn.preprocessing import LabelEncoder\n",
    "import pandas as pd\n",
    "import numpy as np\n",
    "\n",
    "import warnings; \n",
    "warnings.simplefilter('ignore')"
   ]
  },
  {
   "cell_type": "code",
   "execution_count": 2,
   "metadata": {},
   "outputs": [
    {
     "name": "stdout",
     "output_type": "stream",
     "text": [
      "(array([0, 1], dtype=int64), array([611,  94], dtype=int64))\n"
     ]
    }
   ],
   "source": [
    "expr_file = r\"./data/BRCA/data.csv\"\n",
    "expr = pd.read_csv(expr_file, sep=\",\", header=0)\n",
    "\n",
    "y = expr['vital.status'].values\n",
    "X = expr.iloc[:, :-1].values\n",
    "\n",
    "X_train, X_test, y_train, y_test = train_test_split(\n",
    "    X, y, test_size=0.2, stratify=y)\n",
    "print(np.unique(y, return_counts=True))"
   ]
  },
  {
   "cell_type": "code",
   "execution_count": 3,
   "metadata": {},
   "outputs": [],
   "source": [
    "def scaler_fit(X: np.ndarray) -> tuple:\n",
    "    \"\"\"Compute parameters needed for log normalization and scaling.\"\"\"\n",
    "    min0 = X.min(axis=0)\n",
    "    max_val = np.log(X + np.abs(min0) + 1).max()\n",
    "    return min0, max_val\n",
    "\n",
    "def scaler_transform(X: np.ndarray, min0: np.ndarray, max_val: float) -> np.ndarray:\n",
    "    \"\"\"Apply log normalization and scaling to the input data.\"\"\"\n",
    "    X_norm = np.log(X + np.abs(min0) + 1).clip(0, None)\n",
    "    return (X_norm / max_val).clip(0, 1)\n",
    "\n",
    "def scaler_fit_transform(X: np.ndarray) -> np.ndarray:\n",
    "    \"\"\"Combine fitting and transforming steps.\"\"\"\n",
    "    min0, max_val = scaler_fit(X)\n",
    "    return (scaler_transform(X, min0, max_val), min0, max_val)\n",
    "\n",
    "(X_train_norm, min0, max_val) = scaler_fit_transform(X_train - X_train.min())\n",
    "X_test_norm = scaler_transform(X_test - X_test.min(), min0, max_val)\n",
    "le = LabelEncoder()\n",
    "y_train_enc = le.fit_transform(y_train)\n",
    "y_test_enc = le.transform(y_test)\n",
    "num_classes = np.unique(y_train_enc).size"
   ]
  },
  {
   "cell_type": "code",
   "execution_count": 4,
   "metadata": {},
   "outputs": [
    {
     "name": "stdout",
     "output_type": "stream",
     "text": [
      "Training Accuracy: 1.0\n",
      "Test Accuracy: 0.8936170212765957\n",
      "Precision (Macro): 0.8648148148148148\n",
      "Precision (Micro): 0.8936170212765957\n",
      "Precision (Weighted): 0.8878119254005779\n",
      "Recall (Macro): 0.6274805867126834\n",
      "Recall (Micro): 0.8936170212765957\n",
      "Recall (Weighted): 0.8936170212765957\n",
      "F1-score (Macro): 0.670817120622568\n",
      "F1-score (Micro): 0.8936170212765957\n",
      "F1-score (Weighted): 0.8686480668929547\n",
      "ROC-AUC (OvO, Macro): 0.42687661777394303\n",
      "ROC-AUC (OvO, Weighted): 0.42687661777394303\n",
      "\n",
      "\n",
      "              precision    recall  f1-score   support\n",
      "\n",
      "           0       0.90      0.99      0.94       122\n",
      "           1       0.83      0.26      0.40        19\n",
      "\n",
      "    accuracy                           0.89       141\n",
      "   macro avg       0.86      0.63      0.67       141\n",
      "weighted avg       0.89      0.89      0.87       141\n",
      "\n"
     ]
    },
    {
     "data": {
      "text/plain": [
       "<sklearn.metrics._plot.confusion_matrix.ConfusionMatrixDisplay at 0x1c6b61df880>"
      ]
     },
     "execution_count": 4,
     "metadata": {},
     "output_type": "execute_result"
    },
    {
     "data": {
      "image/png": "[encoded data removed]",
      "text/plain": [
       "<Figure size 640x480 with 2 Axes>"
      ]
     },
     "metadata": {},
     "output_type": "display_data"
    },
    {
     "data": {
      "image/png": "[encoded data removed]",
      "text/plain": [
       "<Figure size 640x480 with 2 Axes>"
      ]
     },
     "metadata": {},
     "output_type": "display_data"
    }
   ],
   "source": [
    "from sklearn.ensemble import RandomForestClassifier\n",
    "from sklearn.metrics import accuracy_score, precision_score, recall_score, f1_score, roc_auc_score, classification_report, confusion_matrix, ConfusionMatrixDisplay\n",
    "\n",
    "clf = RandomForestClassifier(n_estimators=100, criterion='gini', random_state=42)\n",
    "clf.fit(X_train_norm, y_train_enc)\n",
    "y_pred = clf.predict(X_test_norm)\n",
    "# Calculate evaluation metrics\n",
    "precision_macro = precision_score(y_test_enc, y_pred, average='macro')\n",
    "precision_micro = precision_score(y_test_enc, y_pred, average='micro')\n",
    "precision_weighted = precision_score(y_test_enc, y_pred, average='weighted')\n",
    "recall_macro = recall_score(y_test_enc, y_pred, average='macro')\n",
    "recall_micro = recall_score(y_test_enc, y_pred, average='micro')\n",
    "recall_weighted = recall_score(y_test_enc, y_pred, average='weighted')\n",
    "f1_macro = f1_score(y_test_enc, y_pred, average='macro')\n",
    "f1_micro = f1_score(y_test_enc, y_pred, average='micro')\n",
    "f1_weighted = f1_score(y_test_enc, y_pred, average='weighted')\n",
    "roc_auc_macro = roc_auc_score(y_test_enc, clf.predict_proba(X_test)[:, 1], average='macro', multi_class='ovo')\n",
    "roc_auc_weighted = roc_auc_score(y_test_enc, clf.predict_proba(X_test)[:, 1], average='weighted', multi_class='ovo')\n",
    "# Classification report (includes precision, recall, F1-score, support)\n",
    "report = classification_report(y_test_enc, y_pred)\n",
    "\n",
    "train_accuracy = accuracy_score(y_train_enc, clf.predict(X_train_norm))\n",
    "\n",
    "# Calculate test accuracy\n",
    "test_accuracy = accuracy_score(y_test_enc, y_pred)\n",
    "\n",
    "\n",
    "print(\"Training Accuracy:\", train_accuracy)\n",
    "print(\"Test Accuracy:\", test_accuracy)\n",
    "print(\"Precision (Macro):\", precision_macro)\n",
    "print(\"Precision (Micro):\", precision_micro)\n",
    "print(\"Precision (Weighted):\", precision_weighted)\n",
    "print(\"Recall (Macro):\", recall_macro)\n",
    "print(\"Recall (Micro):\", recall_micro)\n",
    "print(\"Recall (Weighted):\", recall_weighted)\n",
    "print(\"F1-score (Macro):\", f1_macro)\n",
    "print(\"F1-score (Micro):\", f1_micro)\n",
    "print(\"F1-score (Weighted):\", f1_weighted)\n",
    "print(\"ROC-AUC (OvO, Macro):\", roc_auc_macro)\n",
    "print(\"ROC-AUC (OvO, Weighted):\", roc_auc_weighted)\n",
    "print(\"\\n\")\n",
    "print(report)\n",
    "disp = ConfusionMatrixDisplay.from_predictions(y_pred, y_test_enc, display_labels=le.classes_)\n",
    "disp.plot()"
   ]
  }
 ],
 "metadata": {
  "kernelspec": {
   "display_name": "py310",
   "language": "python",
   "name": "python3"
  },
  "language_info": {
   "codemirror_mode": {
    "name": "ipython",
    "version": 3
   },
   "file_extension": ".py",
   "mimetype": "text/x-python",
   "name": "python",
   "nbconvert_exporter": "python",
   "pygments_lexer": "ipython3",
   "version": "3.10.6"
  }
 },
 "nbformat": 4,
 "nbformat_minor": 2
}
